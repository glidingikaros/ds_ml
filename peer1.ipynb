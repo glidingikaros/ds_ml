# Data Science Tools and Ecosystem

In this notebook, Data Science Tools and Ecosystem are summarized.

## Some of the popular languages that Data Scientists use are:
1. Python
2. R
3. SQL
4. Java
5. Julia

## Some of the commonly used libraries used by Data Scientists include:
1. Pandas
2. NumPy
3. Scikit-Learn
4. TensorFlow
5. Matplotlib

## Data Science Tools
| Data Science Tools |
| ------------------- |
| Jupyter Notebooks   |
| RStudio             |
| Apache Zeppelin     |

### Below are a few examples of evaluating arithmetic expressions in Python.
# This a simple arithmetic expression to multiply then add integers
(3*4)+5
# This will convert 200 minutes to hours by dividing by 60
200 / 60
## Objectives:
- List popular languages for Data Science
- Identify key libraries in Data Science
- Understand basic arithmetic operations in Python
- Familiarize with Data Science tools and environments

## Author
**Your Name Here**
